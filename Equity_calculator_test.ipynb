{
  "cells": [
    {
      "cell_type": "code",
      "execution_count": 2,
      "metadata": {
        "id": "foTw1E3B8BTA"
      },
      "outputs": [],
      "source": [
        "import numpy as np\n",
        "import random\n",
        "import time\n",
        "import copy\n",
        "import concurrent.futures\n",
        "from concurrent.futures import ProcessPoolExecutor, as_completed\n",
        "from threading import Thread\n",
        "from multiprocessing import Pool\n",
        "import multiprocessing"
      ]
    },
    {
      "cell_type": "code",
      "execution_count": 3,
      "metadata": {},
      "outputs": [
        {
          "name": "stdout",
          "output_type": "stream",
          "text": [
            "12\n"
          ]
        }
      ],
      "source": [
        "print(multiprocessing.cpu_count())"
      ]
    },
    {
      "cell_type": "code",
      "execution_count": 4,
      "metadata": {
        "id": "mgM-mVtZ8BTB"
      },
      "outputs": [],
      "source": [
        "def tokens_2(input_string):\n",
        "    if len(input_string) % 2 != 0:\n",
        "        raise ValueError(\"Input string length must be even.\")\n",
        "    tokens = [input_string[i:i+2] for i in range(0, len(input_string), 2)]\n",
        "    return tokens"
      ]
    },
    {
      "cell_type": "code",
      "execution_count": 5,
      "metadata": {
        "id": "MYN3-EH28BTB"
      },
      "outputs": [],
      "source": [
        "class card:\n",
        "    def __init__(self, rank, color, name):\n",
        "        self.name = name\n",
        "        self.rank = rank\n",
        "        self.color = color\n",
        "    def index(self):\n",
        "        return (self.rank, self.color)\n"
      ]
    },
    {
      "cell_type": "code",
      "execution_count": 6,
      "metadata": {
        "id": "JZhp7PcV8BTB"
      },
      "outputs": [],
      "source": [
        "class map:\n",
        "    def __init__(self):\n",
        "        self.color_names = ['h', 's', 'd', 'c'] #columns\n",
        "        self.rank_names = ['2', '3', '4', '5', '6', '7', '8', '9', 'T', 'J', 'Q', 'K', 'A'] #rows\n",
        "        self.card_map = {}\n",
        "        for index_row in range(len(self.rank_names)):\n",
        "            for index_col in range(len(self.color_names)):\n",
        "                key = f\"{self.rank_names[index_row]}{self.color_names[index_col]}\"\n",
        "                value = card(index_row, index_col, f\"{self.rank_names[index_row]}{self.color_names[index_col]}\")\n",
        "                self.card_map[key] = value\n",
        "        self.index_map = {}\n",
        "        for index_row in range(len(self.rank_names)):\n",
        "            for index_col in range(len(self.color_names)):\n",
        "                key = (index_row, index_col)\n",
        "                value = f\"{self.rank_names[index_row]}{self.color_names[index_col]}\"\n",
        "                self.index_map[key] = value\n",
        "\n",
        "    def card(self, name):\n",
        "        return self.card_map[name]\n",
        "\n",
        "    def card_index(self, name):\n",
        "        return self.card_map[name].index()\n"
      ]
    },
    {
      "cell_type": "code",
      "execution_count": 7,
      "metadata": {
        "colab": {
          "base_uri": "https://localhost:8080/"
        },
        "id": "7SjYT2ao8BTB",
        "outputId": "df803042-3574-4e2e-f183-6da7a76c222d"
      },
      "outputs": [
        {
          "name": "stdout",
          "output_type": "stream",
          "text": [
            "(12, 0)\n",
            "Ah\n"
          ]
        }
      ],
      "source": [
        "card_map = map()\n",
        "print(card_map.card_index('Ah'))\n",
        "#print(card_map.index_map)\n",
        "print(card_map.index_map[(12, 0)])"
      ]
    },
    {
      "cell_type": "code",
      "execution_count": 8,
      "metadata": {
        "id": "MDJ0gjqf8BTC"
      },
      "outputs": [],
      "source": [
        "class deck:\n",
        "    card_map = map()\n",
        "    def __init__(self, cards = '', blocked_cards = ''):\n",
        "        #print(deck.card_map.card_map)\n",
        "        self.card_map = map()\n",
        "        self.card_array = np.zeros((13, 4))\n",
        "        self.cards_names = tokens_2(cards)\n",
        "        self.blocked_cards_names = tokens_2(blocked_cards)\n",
        "        for name in self.cards_names:\n",
        "            self.card_array[self.card_map.card_index(name)] = 1\n",
        "        for name in self.blocked_cards_names:\n",
        "            self.card_array[self.card_map.card_index(name)] = -1\n",
        "    def deal_random(self):\n",
        "        while True:\n",
        "            random_rank = random.randint(0, 12)\n",
        "            random_color = random.randint(0, 3)\n",
        "            if self.card_array[random_rank, random_color] == 0:\n",
        "                self.card_array[random_rank, random_color] = 1\n",
        "                break\n",
        "\n",
        "    def deal_card(self, name):\n",
        "        if self.card_array[self.card_map.card_index(name)] == 1:\n",
        "            self.card_array[self.card_map.card_index(name)] = 1\n",
        "\n",
        "    def __add__(self, other):\n",
        "        if isinstance(other, deck):\n",
        "            tmp = copy.copy(self)\n",
        "            tmp.card_array = tmp.card_array + other.card_array\n",
        "            tmp.cards_names += other.cards_names\n",
        "            tmp.blocked_cards_names += other.blocked_cards_names\n",
        "            return tmp\n",
        "        else:\n",
        "            raise ValueError(\"'+' Operation not defined\")\n",
        "\n",
        "    def __sub__(self, other):\n",
        "        if isinstance(other, deck):\n",
        "            tmp = copy.copy(self)\n",
        "            tmp.card_array = tmp.card_array - other.card_array\n",
        "            for element in other.cards_names:\n",
        "                if element in tmp.cards_names:\n",
        "                    tmp.cards_names.remove(element)\n",
        "            for element in other.blocked_cards_names:\n",
        "                if element in tmp.blocked_cards_names:\n",
        "                    tmp.blocked_cards_names.remove(element)\n",
        "            return tmp\n",
        "        else:\n",
        "            raise ValueError(\"'-' Operation not defined\")\n",
        "\n",
        "    def __mul__(self, other):\n",
        "        if isinstance(other, (int, float)):\n",
        "            tmp = copy.copy(self)\n",
        "            tmp.card_array = tmp.card_array * 2\n",
        "            return tmp\n",
        "        else:\n",
        "            raise ValueError(\"'*' Operation not defined\")"
      ]
    },
    {
      "cell_type": "code",
      "execution_count": 9,
      "metadata": {
        "id": "qLN219ax8BTC"
      },
      "outputs": [],
      "source": [
        "class player_range: #input_string.split(',')\n",
        "    def __init__(self, input_codes, blocked_cards = ''):\n",
        "        self.color_names = ['h', 's', 'd', 'c'] #columns\n",
        "        self.rank_names = ['2', '3', '4', '5', '6', '7', '8', '9', 'T', 'J', 'Q', 'K', 'A'] #rows\n",
        "        self.blocked_cards_names = tokens_2(blocked_cards)\n",
        "        self.input_codes = input_codes.split(',')\n",
        "        self.hands_list = []\n",
        "        for input_code in self.input_codes:\n",
        "            if len(input_code) == 3:\n",
        "                if input_code[2] == 'o':\n",
        "                    for color1 in self.color_names:\n",
        "                        for color2 in self.color_names:\n",
        "                            if color1 != color2:\n",
        "                                card1 = f\"{input_code[0]}{color1}\"\n",
        "                                card2 = f\"{input_code[1]}{color2}\"\n",
        "                                if not (card1 in self.blocked_cards_names or card2 in self.blocked_cards_names):\n",
        "                                    self.hands_list.append(f\"{input_code[0]}{color1}{input_code[1]}{color2}\")\n",
        "                if input_code[2] == 's':\n",
        "                    for color1, color2 in zip(self.color_names, self.color_names):\n",
        "                        if color1 == color2:\n",
        "                            card1 = f\"{input_code[0]}{color1}\"\n",
        "                            card2 = f\"{input_code[1]}{color2}\"\n",
        "                            if not (card1 in self.blocked_cards_names or card2 in self.blocked_cards_names):\n",
        "                                self.hands_list.append(f\"{input_code[0]}{color1}{input_code[1]}{color2}\") \n",
        "            if len(input_code) == 2:                   \n",
        "                if input_code[0] == input_code[1]:\n",
        "                    card_name = input_code[0]\n",
        "                    for index1 in range(len(self.color_names)):\n",
        "                        for index2 in range(index1+1,len(self.color_names)):\n",
        "                            if self.color_names[index1] != self.color_names[index2]:\n",
        "                                card1 = f\"{card_name}{self.color_names[index1]}\"\n",
        "                                card2 = f\"{card_name}{self.color_names[index2]}\"\n",
        "                                if not (card1 in self.blocked_cards_names or card2 in self.blocked_cards_names):\n",
        "                                    self.hands_list.append(f\"{input_code[0]}{self.color_names[index1]}{input_code[1]}{self.color_names[index2]}\")"
      ]
    },
    {
      "cell_type": "code",
      "execution_count": 10,
      "metadata": {},
      "outputs": [],
      "source": [
        "def code_range(input_codes):\n",
        "    rank_names = ['2', '3', '4', '5', '6', '7', '8', '9', 'T', 'J', 'Q', 'K', 'A'] #rows\n",
        "    input_codes = input_codes.split(',')\n",
        "    output = ''\n",
        "    for input_code in input_codes:\n",
        "        if len(input_code) == 4 and input_code[3] == '+':\n",
        "            high_name = input_code[0]\n",
        "            low_name = input_code[1]\n",
        "            high_index = rank_names.index(high_name)\n",
        "            low_index = rank_names.index(low_name)\n",
        "            for index in range(low_index, high_index):\n",
        "                output = output + f\"{rank_names[high_index]}{rank_names[index]}{input_code[2]},\"\n",
        "        if len(input_code) == 3 and input_code[2] == '+':\n",
        "            if input_code[0] == input_code[1]:\n",
        "                pair_name = input_code[0]\n",
        "                pair_index = rank_names.index(pair_name)\n",
        "                for index in range(pair_index, 13):\n",
        "                    output = output + f\"{rank_names[index]}{rank_names[index]},\"\n",
        "            if input_code[0] != input_code[1]:\n",
        "                high_name = input_code[0]\n",
        "                low_name = input_code[1]\n",
        "                high_index = rank_names.index(high_name)\n",
        "                low_index = rank_names.index(low_name)\n",
        "                for index in range(low_index, high_index):\n",
        "                    output = output + f\"{rank_names[high_index]}{rank_names[index]}o,{rank_names[high_index]}{rank_names[index]}s,\"\n",
        "        if len(input_code) == 3 and input_code[2] != '+':\n",
        "            output = output + input_code + ','\n",
        "        if len(input_code) == 2:\n",
        "            if input_code[0] == input_code[1]:\n",
        "                output = output + f\"{input_code[0]}{input_code[0]},\"\n",
        "            if input_code[0] != input_code[1]:\n",
        "                output = output + f\"{input_code[0]}{input_code[1]}s,{input_code[0]}{input_code[1]}o,\"\n",
        "\n",
        "    return output[0:-1]"
      ]
    },
    {
      "cell_type": "markdown",
      "metadata": {},
      "source": []
    },
    {
      "cell_type": "code",
      "execution_count": 11,
      "metadata": {
        "id": "UJnLXH6o8BTC"
      },
      "outputs": [
        {
          "name": "stdout",
          "output_type": "stream",
          "text": [
            "['AsKh', 'AsKc', 'AdKh', 'AdKs', 'AdKc', 'AcKh', 'AcKs', '8h8s', '8h8d', '8h8c', '8s8d', '8s8c', '8d8c', '9h9s', '9h9d', '9h9c', '9s9d', '9s9c', '9d9c']\n"
          ]
        }
      ],
      "source": [
        "#villian_range = player_range(input_codes=\"88\", blocked_cards='8c8d8h')\n",
        "villian_range = player_range(input_codes=\"AKo,88,99\", blocked_cards='AhKd')\n",
        "print(villian_range.hands_list)"
      ]
    },
    {
      "cell_type": "code",
      "execution_count": 12,
      "metadata": {
        "colab": {
          "base_uri": "https://localhost:8080/"
        },
        "id": "HZ0XuuVS8BTC",
        "outputId": "eb85cf86-e437-4a9b-89d5-6ae46e2bfdc9"
      },
      "outputs": [
        {
          "name": "stdout",
          "output_type": "stream",
          "text": [
            "[[ 0.  0.  0.  0.]\n",
            " [ 0.  0.  0.  0.]\n",
            " [ 0.  0.  0.  0.]\n",
            " [ 0.  0.  0.  0.]\n",
            " [ 0.  0.  0.  0.]\n",
            " [ 0.  0.  0.  0.]\n",
            " [ 0.  0.  2.  2.]\n",
            " [ 0.  0.  0.  0.]\n",
            " [ 0.  0. -1.  0.]\n",
            " [ 0.  0.  0.  0.]\n",
            " [ 0.  0.  0.  0.]\n",
            " [ 0.  0.  0.  0.]\n",
            " [-1.  0.  0.  0.]]\n"
          ]
        }
      ],
      "source": [
        "print((deck(\"\",\"AhTd\")-deck(\"\",\"8c8d\")*2).card_array)"
      ]
    },
    {
      "cell_type": "code",
      "execution_count": 13,
      "metadata": {
        "colab": {
          "base_uri": "https://localhost:8080/"
        },
        "id": "tVuNjtCL8BTC",
        "outputId": "d81e73c5-89b1-459d-f15d-50c1fb293efb"
      },
      "outputs": [
        {
          "data": {
            "text/plain": [
              "array([5., 0., 0., 0.])"
            ]
          },
          "execution_count": 13,
          "metadata": {},
          "output_type": "execute_result"
        }
      ],
      "source": [
        "cards = deck(\"2h3h4h5h6h\")\n",
        "array = cards.card_array\n",
        "np.sum(array[0:0+5,:],axis = 0)"
      ]
    },
    {
      "cell_type": "code",
      "execution_count": 14,
      "metadata": {
        "colab": {
          "base_uri": "https://localhost:8080/"
        },
        "id": "f2YQxS7a8BTD",
        "outputId": "b664eefa-6765-4f66-cf11-4b1927d8a642"
      },
      "outputs": [
        {
          "name": "stdout",
          "output_type": "stream",
          "text": [
            "[[1. 0. 0. 0.]\n",
            " [1. 0. 0. 0.]\n",
            " [1. 0. 0. 0.]\n",
            " [1. 0. 0. 0.]\n",
            " [0. 0. 0. 0.]]\n"
          ]
        }
      ],
      "source": [
        "print(np.vstack((array[0:0+4,:], array[12,:])))"
      ]
    },
    {
      "cell_type": "code",
      "execution_count": 15,
      "metadata": {
        "id": "PTMmZLk-8BTD"
      },
      "outputs": [],
      "source": [
        "def check_straights(cards):\n",
        "    array = cards.card_array\n",
        "    rank_sum = np.sum(array, axis=1) #asis 1 - suma po rankach #axis 0 suma po kolorach\n",
        "    for n in range(-1, 10):\n",
        "        is_straight = True\n",
        "        for m in range(0, 5):\n",
        "            if rank_sum[(n+m)%13] < 1:\n",
        "                is_straight = False\n",
        "                break\n",
        "        if is_straight == True:\n",
        "            if n != -1:\n",
        "                if max(np.sum(array[n:n+5,:],axis = 0)) == 5:\n",
        "                    return \"straight flush\", [n+4]\n",
        "            elif max(np.sum(np.vstack((array[0:0+4,:], array[12,:])), axis=0)) == 5:\n",
        "                return \"straight flush\", [3]\n",
        "            else:\n",
        "                return \"straight\", [n+4]\n",
        "    return None, None"
      ]
    },
    {
      "cell_type": "code",
      "execution_count": 16,
      "metadata": {
        "colab": {
          "base_uri": "https://localhost:8080/"
        },
        "id": "UAWhsl708BTD",
        "outputId": "c1177264-56f7-4f5f-aafe-147b41faa99e"
      },
      "outputs": [
        {
          "name": "stdout",
          "output_type": "stream",
          "text": [
            "('straight flush', [3])\n"
          ]
        }
      ],
      "source": [
        "print(check_straights(deck(\"2h3h4h5hAh\")))"
      ]
    },
    {
      "cell_type": "code",
      "execution_count": 17,
      "metadata": {
        "id": "7VrkAR8i8BTD"
      },
      "outputs": [],
      "source": [
        "def check_above_straight(cards):\n",
        "    array = cards.card_array\n",
        "    rank_sum = np.sum(array, axis=1) #asis 1 - suma po rankach #axis 0 suma po kolorach\n",
        "    color_sum = np.sum(array, axis=0)\n",
        "    if max(rank_sum) == 4:\n",
        "        quad_index = np.where(rank_sum == 4)[0][0]\n",
        "        rank_sum[quad_index] = 0\n",
        "        return \"quads\", [quad_index, max(np.where(rank_sum > 0)[0])]\n",
        "    elif np.size(np.where(rank_sum >= 3)[0]) >= 1 and np.size(np.where(rank_sum >= 2)[0]) >= 2:\n",
        "        index_of_highest_trips = max(np.where(rank_sum >= 3)[0])\n",
        "        rank_sum[index_of_highest_trips] = 0\n",
        "        return \"full house\", [index_of_highest_trips, max(np.where(rank_sum >= 2)[0])]\n",
        "    elif max(color_sum) >= 5:\n",
        "        color_index = np.where(color_sum >= 5)[0]\n",
        "        index_of_flush = np.where(array[:,color_index] == 1)[0]\n",
        "        index_of_flush = np.sort(index_of_flush)[::-1]\n",
        "        return \"flush\" , [index_of_flush[0], index_of_flush[1], index_of_flush[2], index_of_flush[3], index_of_flush[4]]\n",
        "    else:\n",
        "        return None, None\n"
      ]
    },
    {
      "cell_type": "code",
      "execution_count": 18,
      "metadata": {
        "colab": {
          "base_uri": "https://localhost:8080/"
        },
        "id": "ucF3Y0GS8BTD",
        "outputId": "5b78f13f-25c7-45a6-e7e3-d587e68980f4"
      },
      "outputs": [
        {
          "name": "stdout",
          "output_type": "stream",
          "text": [
            "('flush', [12, 10, 8, 4, 2])\n"
          ]
        }
      ],
      "source": [
        "print(check_above_straight(deck(\"QcTc4cAc6cQsAs\")))"
      ]
    },
    {
      "cell_type": "code",
      "execution_count": 19,
      "metadata": {
        "id": "eRE0JGT68BTD"
      },
      "outputs": [],
      "source": [
        "def check_below_straight(cards):\n",
        "    array = cards.card_array\n",
        "    rank_sum = np.sum(array, axis=1) #asis 1 - suma po rankach #axis 0 suma po kolorach\n",
        "    color_sum = np.sum(array, axis=0)\n",
        "    if max(rank_sum) == 3:\n",
        "        trips_index = max(np.where(rank_sum == 3)[0])\n",
        "        high_index = np.where(rank_sum == 1)[0]\n",
        "        high_index = np.sort(high_index)[::-1]\n",
        "        return \"trips\", [trips_index, high_index[0], high_index[1]]\n",
        "    elif np.size(np.where(rank_sum == 2)[0]) >= 2:\n",
        "        pair_index = np.where(rank_sum == 2)[0]\n",
        "        pair_index = np.sort(pair_index)[::-1]\n",
        "        out1 = pair_index[0]\n",
        "        out2 = pair_index[1]\n",
        "        rank_sum[out1] = 0\n",
        "        rank_sum[out2] = 0\n",
        "        high_index = np.where(rank_sum >= 1)[0]\n",
        "        return \"two pairs\", [out1, out2, max(high_index)]\n",
        "    elif np.size(np.where(rank_sum == 2)[0]) == 1:\n",
        "        pair_index = np.where(rank_sum == 2)[0][0]\n",
        "        high_index = np.where(rank_sum == 1)[0]\n",
        "        high_index = np.sort(high_index)[::-1]\n",
        "        return \"pair\", [pair_index, high_index[0], high_index[1], high_index[2]]\n",
        "    else:\n",
        "        high_index = np.where(rank_sum == 1)[0]\n",
        "        high_index = np.sort(high_index)[::-1]\n",
        "        return \"high card\", [high_index[0], high_index[1], high_index[2], high_index[3], high_index[4]]\n",
        "\n"
      ]
    },
    {
      "cell_type": "code",
      "execution_count": 20,
      "metadata": {
        "id": "J2ua4fY18BTD"
      },
      "outputs": [],
      "source": [
        "comb_rank = {\"high card\" : 0, \"pair\" : 1, \"two pairs\" : 2, \"trips\" : 3, \"straight\" : 4, \"flush\" : 5, \"full house\" : 6, \"quads\" : 7, \"straight flush\" : 8}"
      ]
    },
    {
      "cell_type": "code",
      "execution_count": 21,
      "metadata": {
        "colab": {
          "base_uri": "https://localhost:8080/"
        },
        "id": "Rgv4guLI8BTD",
        "outputId": "3e79d2fe-b62d-4c58-f265-ef254b4d1c3e"
      },
      "outputs": [
        {
          "data": {
            "text/plain": [
              "True"
            ]
          },
          "execution_count": 21,
          "metadata": {},
          "output_type": "execute_result"
        }
      ],
      "source": [
        "comb_rank[\"pair\"] < comb_rank[\"two pairs\"]"
      ]
    },
    {
      "cell_type": "code",
      "execution_count": 22,
      "metadata": {
        "id": "ju0Ob20M8BTE"
      },
      "outputs": [],
      "source": [
        "def check_combo(cards):\n",
        "    comb, helpers = check_straights(cards)\n",
        "    if comb == \"straight flush\":\n",
        "        return comb, helpers\n",
        "    if comb == \"straight\":\n",
        "        comb2, helpers2 = check_above_straight(cards)\n",
        "        if comb2 != None:\n",
        "            return comb2, helpers2\n",
        "        else:\n",
        "            return comb, helpers\n",
        "    if comb == None:\n",
        "        comb2, helpers2 = check_above_straight(cards)\n",
        "        if comb2 != None:\n",
        "            return comb2, helpers2\n",
        "        comb, helpers = check_below_straight(cards)\n",
        "        return comb, helpers"
      ]
    },
    {
      "cell_type": "code",
      "execution_count": 23,
      "metadata": {
        "id": "rHDtRJnp8BTE"
      },
      "outputs": [],
      "source": [
        "def winner(combo1, helpers1, combo2, helpers2):\n",
        "    if comb_rank[combo1] == comb_rank[combo2]:\n",
        "        #print(helpers1, helpers2)\n",
        "        for helper1, helper2 in zip(helpers1, helpers2):\n",
        "            if helper1 > helper2:\n",
        "                return 1\n",
        "            if helper1 < helper2:\n",
        "                return -1\n",
        "        return 0\n",
        "    if comb_rank[combo1] > comb_rank[combo2]:\n",
        "        return 1\n",
        "    if comb_rank[combo1] < comb_rank[combo2]:\n",
        "        return -1"
      ]
    },
    {
      "cell_type": "code",
      "execution_count": 22,
      "metadata": {
        "colab": {
          "base_uri": "https://localhost:8080/"
        },
        "id": "kBckpktJ8BTE",
        "outputId": "c864c879-f2e0-4bbc-e3d5-62c2c3acb092"
      },
      "outputs": [
        {
          "name": "stdout",
          "output_type": "stream",
          "text": [
            "[0.5566 0.0018 0.4416]\n"
          ]
        }
      ],
      "source": [
        "hero = deck(\"AhTd\")\n",
        "villian = deck(\"8c8d\")\n",
        "outcome_tab = np.array([0, 0, 0])\n",
        "for n in range(10000):\n",
        "    board = deck(\"\",\"8c8dAhTd\")\n",
        "    for m in range(5):\n",
        "        board.deal_random()\n",
        "    hero_river = board + villian + hero*2\n",
        "    villian_river = board + villian*2 + hero\n",
        "    hero_combo, hero_kickers = check_combo(hero_river)\n",
        "    villian_combo, villian_kickers = check_combo(villian_river)\n",
        "    outcome = winner(hero_combo, hero_kickers, villian_combo, villian_kickers)\n",
        "    outcome_tab[outcome+1] += 1\n",
        "\n",
        "outcome_tab = outcome_tab / np.sum(outcome_tab)\n",
        "print(outcome_tab)"
      ]
    },
    {
      "cell_type": "code",
      "execution_count": 23,
      "metadata": {},
      "outputs": [
        {
          "name": "stdout",
          "output_type": "stream",
          "text": [
            "['AsTs', 'AdTd', 'AcTc', 'AsJs', 'AdJd', 'AcJc', 'AsQs', 'AdQd', 'AcQc', 'AsKs', 'AcKc', 'AsQh', 'AsQd', 'AsQc', 'AdQh', 'AdQs', 'AdQc', 'AcQh', 'AcQs', 'AcQd', 'AsKh', 'AsKc', 'AdKh', 'AdKs', 'AdKc', 'AcKh', 'AcKs', '7h7s', '7h7d', '7h7c', '7s7d', '7s7c', '7d7c', '8h8s', '8h8d', '8h8c', '8s8d', '8s8c', '8d8c', '9h9s', '9h9d', '9h9c', '9s9d', '9s9c', '9d9c', 'ThTs', 'ThTd', 'ThTc', 'TsTd', 'TsTc', 'TdTc', 'JhJs', 'JhJd', 'JhJc', 'JsJd', 'JsJc', 'JdJc', 'QhQs', 'QhQd', 'QhQc', 'QsQd', 'QsQc', 'QdQc', 'KhKs', 'KhKc', 'KsKc', 'AsAd', 'AsAc', 'AdAc', '6h5h', '6s5s', '6d5d', '6c5c', '6h5s', '6h5d', '6h5c', '6s5h', '6s5d', '6s5c', '6d5h', '6d5s', '6d5c', '6c5h', '6c5s', '6c5d', '7h4s', '7h4d', '7h4c', '7s4h', '7s4d', '7s4c', '7d4h', '7d4s', '7d4c', '7c4h', '7c4s', '7c4d', 'Jh2h', 'Js2s', 'Jd2d', 'Jc2c']\n"
          ]
        }
      ],
      "source": [
        "villian_range = player_range(input_codes=code_range('ATs+,AQo+,77+,65,74o,J2s'), blocked_cards='AhKd')\n",
        "print(villian_range.hands_list)"
      ]
    },
    {
      "cell_type": "code",
      "execution_count": 24,
      "metadata": {},
      "outputs": [],
      "source": [
        "def monte_carlo_hand(villian_hand, hero_hand = 'AhTd', n =10000):\n",
        "    hero = deck(hero_hand)\n",
        "    villian = deck(villian_hand)\n",
        "    print(villian_hand)\n",
        "    for m in range(n):\n",
        "        board = deck(\"\",(villian_hand+hero_hand))\n",
        "        for l in range(5):\n",
        "            board.deal_random()\n",
        "        hero_river = board + villian + hero*2\n",
        "        villian_river = board + villian*2 + hero\n",
        "        hero_combo, hero_kickers = check_combo(hero_river)\n",
        "        villian_combo, villian_kickers = check_combo(villian_river)\n",
        "        outcome = winner(hero_combo, hero_kickers, villian_combo, villian_kickers)\n",
        "    return outcome"
      ]
    },
    {
      "cell_type": "code",
      "execution_count": 25,
      "metadata": {},
      "outputs": [],
      "source": [
        "def monte_carlo_list(villian_range):\n",
        "    out = []\n",
        "    for villian_hand in villian_range:\n",
        "        out.append(monte_carlo_hand(villian_hand))\n",
        "    return out"
      ]
    },
    {
      "cell_type": "code",
      "execution_count": 26,
      "metadata": {},
      "outputs": [
        {
          "name": "stdout",
          "output_type": "stream",
          "text": [
            "AsTs\n",
            "JhJs\n",
            "JhJd\n",
            "AcTc\n",
            "JhJc\n",
            "AsJs\n",
            "JsJd\n",
            "JsJc\n",
            "AdJd\n",
            "JdJc\n",
            "AcJc\n",
            "QhQs\n",
            "AsQs\n",
            "QhQd\n",
            "AdQd\n",
            "QhQc\n",
            "AcQc\n",
            "QsQd\n",
            "AsKs\n",
            "QsQc\n",
            "AdKd\n",
            "QdQc\n",
            "AcKc\n",
            "AsQh\n",
            "KhKs\n",
            "AsQd\n",
            "KhKd\n",
            "AsQc\n",
            "KhKc\n",
            "AdQh\n",
            "KsKdAdQs\n",
            "\n",
            "KsKc\n",
            "KdKc\n",
            "AdQc\n",
            "AsAd\n",
            "AcQh\n",
            "AsAc\n",
            "AcQs\n",
            "AcQd\n",
            "AdAc\n",
            "6h5h\n",
            "AsKh\n",
            "6s5s\n",
            "AsKd\n",
            "AsKc\n",
            "6d5d\n",
            "AdKh\n",
            "6c5c\n",
            "AdKs\n",
            "AdKc\n",
            "6h5s\n",
            "6h5d\n",
            "AcKh\n",
            "AcKs\n",
            "6h5c\n",
            "AcKd\n",
            "6s5h\n",
            "6s5d7h7s\n",
            "\n",
            "7h7d\n",
            "6s5c\n",
            "7h7c\n",
            "6d5h\n",
            "6d5s\n",
            "7s7d\n",
            "6d5c\n",
            "7s7c\n",
            "6c5h\n",
            "7d7c\n",
            "6c5s\n",
            "8h8s\n",
            "6c5d\n",
            "8h8d\n",
            "7h4s\n",
            "8h8c\n",
            "7h4d\n",
            "8s8d\n",
            "7h4c\n",
            "8s8c\n",
            "8d8c\n",
            "7s4h\n",
            "9h9s\n",
            "7s4d\n",
            "9h9d\n",
            "7s4c\n",
            "9h9c\n",
            "9s9d7d4h\n",
            "\n",
            "9s9c\n",
            "7d4s\n",
            "9d9c\n",
            "7d4c\n",
            "ThTs\n",
            "7c4h\n",
            "ThTc\n",
            "7c4sTsTc\n",
            "\n",
            "7c4d\n",
            "Jh2h\n",
            "Js2s\n",
            "Jd2d\n",
            "Jc2c\n"
          ]
        }
      ],
      "source": [
        "villian_range = player_range(input_codes=code_range('ATs+,AQo+,77+,65,74o,J2s'), blocked_cards='AhTd')\n",
        "thread1 = Thread(target=monte_carlo_list, args=(villian_range.hands_list[0:50],))\n",
        "thread2 = Thread(target=monte_carlo_list, args=(villian_range.hands_list[50:],))\n",
        "thread1.start()\n",
        "thread2.start()\n",
        "\n",
        "thread1.join()\n",
        "thread2.join()"
      ]
    },
    {
      "cell_type": "code",
      "execution_count": 27,
      "metadata": {},
      "outputs": [
        {
          "name": "stdout",
          "output_type": "stream",
          "text": [
            "AsTs\n",
            "AcTc\n",
            "AsJs\n",
            "AdJd\n",
            "AcJc\n",
            "AsQs\n",
            "AdQd\n",
            "AcQc\n",
            "AsKs\n",
            "AdKd\n",
            "AcKc\n",
            "AsQh\n",
            "AsQd\n",
            "AsQc\n",
            "AdQh\n",
            "AdQs\n",
            "AdQc\n",
            "AcQhAcQs\n",
            "\n",
            "AcQd\n",
            "AsKh\n",
            "AsKd\n",
            "AsKc\n",
            "AdKh\n",
            "AdKs\n",
            "AdKc\n",
            "AcKh\n",
            "AcKs\n",
            "AcKd\n",
            "7h7s\n",
            "7h7d\n",
            "7h7c\n",
            "7s7d\n",
            "7s7c\n",
            "7d7c\n",
            "8h8s\n",
            "8h8d\n",
            "8h8c\n",
            "8s8d\n",
            "8s8c\n",
            "8d8c\n",
            "9h9s\n",
            "9h9d\n",
            "9h9c\n",
            "9s9d\n",
            "9s9c\n",
            "9d9c\n",
            "ThTs\n",
            "ThTc\n",
            "TsTc\n",
            "JhJs\n",
            "JhJd\n",
            "JhJc\n",
            "JsJd\n",
            "JsJc\n",
            "JdJc\n",
            "QhQs\n",
            "QhQd\n",
            "QhQc\n",
            "QsQd\n",
            "QsQc\n",
            "QdQc\n",
            "KhKs\n",
            "KhKd\n",
            "KhKc\n",
            "KsKd\n",
            "KsKc\n",
            "KdKc\n",
            "AsAdAsAc\n",
            "\n",
            "AdAc\n",
            "6h5h\n",
            "6s5s\n",
            "6d5d\n",
            "6c5c\n",
            "6h5s\n",
            "6h5d6h5c\n",
            "\n",
            "6s5h\n",
            "6s5d\n",
            "6s5c\n",
            "6d5h\n",
            "6d5s\n",
            "6d5c\n",
            "6c5h\n",
            "6c5s\n",
            "6c5d\n",
            "7h4s\n",
            "7h4d\n",
            "7h4c\n",
            "7s4h\n",
            "7s4d\n",
            "7s4c\n",
            "7d4h\n",
            "7d4s\n",
            "7d4c\n",
            "7c4h\n",
            "7c4s\n",
            "7c4dJh2h\n",
            "\n",
            "Js2sJd2d\n",
            "\n",
            "Jc2c\n"
          ]
        }
      ],
      "source": [
        "num_threads = 10\n",
        "hero = deck(\"AhTd\")\n",
        "outcome_tab = np.array([0, 0, 0])\n",
        "villian_range = player_range(input_codes=code_range('ATs+,AQo+,77+,65,74o,J2s'), blocked_cards='AhTd')\n",
        "with concurrent.futures.ThreadPoolExecutor(max_workers=num_threads) as executor:\n",
        "     result = list(executor.map(monte_carlo_hand, villian_range.hands_list))"
      ]
    },
    {
      "cell_type": "code",
      "execution_count": 28,
      "metadata": {},
      "outputs": [],
      "source": [
        "# outcome_tab = np.array([0, 0, 0])\n",
        "# villian_range = player_range(input_codes=code_range('ATs+,AQo+,77+,65,74o,J2s'), blocked_cards='AhTd')\n",
        "# with Pool() as pool:\n",
        "#     results = pool.map(monte_carlo_hand, villian_range.hands_list)"
      ]
    },
    {
      "cell_type": "code",
      "execution_count": null,
      "metadata": {},
      "outputs": [
        {
          "name": "stdout",
          "output_type": "stream",
          "text": [
            "AsTs\n",
            "AcTc\n",
            "AsJs\n",
            "AdJd\n",
            "AcJc\n",
            "AsQs\n",
            "AdQd\n",
            "AcQc\n",
            "AsKs\n",
            "AdKd\n",
            "AcKc\n",
            "AsQh\n",
            "AsQd\n",
            "AsQc\n",
            "AdQh\n",
            "AdQs\n",
            "AdQc\n",
            "AcQh\n",
            "AcQs\n",
            "AcQd\n",
            "AsKh\n",
            "AsKd\n",
            "AsKc\n",
            "AdKh\n",
            "AdKs\n",
            "AdKc\n",
            "AcKh\n",
            "AcKs\n",
            "AcKd\n",
            "7h7s\n",
            "7h7d\n",
            "7h7c\n",
            "7s7d\n",
            "7s7c\n",
            "7d7c\n",
            "8h8s\n",
            "8h8d\n",
            "8h8c\n",
            "8s8d\n",
            "8s8c\n",
            "8d8c\n",
            "9h9s\n",
            "9h9d\n",
            "9h9c\n",
            "9s9d\n",
            "9s9c\n",
            "9d9c\n",
            "ThTs\n",
            "ThTc\n",
            "TsTc\n",
            "JhJs\n",
            "JhJd\n",
            "JhJc\n",
            "JsJd\n",
            "JsJc\n",
            "JdJc\n",
            "QhQs\n",
            "QhQd\n",
            "QhQc\n",
            "QsQd\n",
            "QsQc\n",
            "QdQc\n",
            "KhKs\n",
            "KhKd\n",
            "KhKc\n",
            "KsKd\n",
            "KsKc\n",
            "KdKc\n",
            "AsAd\n",
            "AsAc\n",
            "AdAc\n",
            "6h5h\n",
            "6s5s\n",
            "6d5d\n",
            "6c5c\n",
            "6h5s\n",
            "6h5d\n",
            "6h5c\n",
            "6s5h\n",
            "6s5d\n",
            "6s5c\n",
            "6d5h\n",
            "6d5s\n",
            "6d5c\n",
            "6c5h\n",
            "6c5s\n",
            "6c5d\n",
            "7h4s\n",
            "7h4d\n",
            "7h4c\n",
            "7s4h\n",
            "7s4d\n",
            "7s4c\n",
            "7d4h\n",
            "7d4s\n",
            "7d4c\n",
            "7c4h\n",
            "7c4s\n",
            "7c4d\n",
            "Jh2h\n",
            "Js2s\n",
            "Jd2d\n",
            "Jc2c\n",
            "[0.56865049 0.03208738 0.39926214]\n"
          ]
        }
      ],
      "source": [
        "hero = deck(\"AhTd\")\n",
        "outcome_tab = np.array([0, 0, 0])\n",
        "villian_range = player_range(input_codes=code_range('ATs+,AQo+,77+,65,74o,J2s'), blocked_cards='AhTd')\n",
        "for villian_hand in villian_range.hands_list:\n",
        "    villian = deck(villian_hand)\n",
        "    print(villian_hand)\n",
        "    for n in range(10000):\n",
        "        board = deck(\"\",(villian_hand+\"AhTd\"))\n",
        "        for m in range(5):\n",
        "            board.deal_random()\n",
        "        hero_river = board + villian + hero*2\n",
        "        villian_river = board + villian*2 + hero\n",
        "        hero_combo, hero_kickers = check_combo(hero_river)\n",
        "        villian_combo, villian_kickers = check_combo(villian_river)\n",
        "        outcome = winner(hero_combo, hero_kickers, villian_combo, villian_kickers)\n",
        "        outcome_tab[outcome+1] += 1\n",
        "\n",
        "outcome_tab = outcome_tab / np.sum(outcome_tab)\n",
        "print(outcome_tab)"
      ]
    },
    {
      "cell_type": "code",
      "execution_count": null,
      "metadata": {
        "colab": {
          "base_uri": "https://localhost:8080/"
        },
        "id": "s1rycdag8BTE",
        "outputId": "c3ebbc0d-ed9d-4d8a-95e1-45967638b8ed"
      },
      "outputs": [
        {
          "name": "stdout",
          "output_type": "stream",
          "text": [
            "('pair', [12, 10, 8, 6])\n"
          ]
        }
      ],
      "source": [
        "print(check_below_straight(deck(\"QcThAdAc2c8d7h\")))"
      ]
    },
    {
      "cell_type": "code",
      "execution_count": null,
      "metadata": {
        "colab": {
          "base_uri": "https://localhost:8080/"
        },
        "id": "zNRxv7DOTRvq",
        "outputId": "45c4ccea-c6a1-4492-b13d-7ee063a04ebb"
      },
      "outputs": [
        {
          "name": "stdout",
          "output_type": "stream",
          "text": [
            "-1\n"
          ]
        }
      ],
      "source": [
        "comb1, kickers1 = check_combo(deck(\"2d3h4c5c6dQsAs\"))\n",
        "comb2, kickers2 = check_combo(deck(\"QdQh4cAc6dQsAs\"))\n",
        "\n",
        "\n",
        "print(winner(comb1, kickers1, comb2, kickers2))"
      ]
    },
    {
      "cell_type": "code",
      "execution_count": 24,
      "metadata": {
        "colab": {
          "base_uri": "https://localhost:8080/"
        },
        "id": "L0Sw5ZaB8BTE",
        "outputId": "187579d8-c0f0-4e4c-cced-13b7955b4d37"
      },
      "outputs": [
        {
          "name": "stdout",
          "output_type": "stream",
          "text": [
            "('straight', [3])\n",
            "('full house', [10, 12])\n",
            "('flush', [12, 10, 8, 4, 2])\n",
            "('two pairs', [12, 10, 4])\n",
            "('flush', [12, 11, 9, 3, 0])\n"
          ]
        }
      ],
      "source": [
        "print(check_combo(deck(\"2d3h4c5c6dQsAs\")))\n",
        "print(check_combo(deck(\"QdQh4cAc6dQsAs\")))\n",
        "print(check_combo(deck(\"QcTc4cAc6cQsAs\")))\n",
        "print(check_combo(deck(\"QdQh4cAc6d6sAs\")))\n",
        "print(check_combo(deck(\"2c5c8hJhJcKcAc\")))\n",
        "\n"
      ]
    },
    {
      "cell_type": "code",
      "execution_count": null,
      "metadata": {
        "colab": {
          "base_uri": "https://localhost:8080/"
        },
        "id": "JMaHGLFe8BTE",
        "outputId": "79971410-e70c-4740-dc27-d741ceba6a2d"
      },
      "outputs": [
        {
          "name": "stdout",
          "output_type": "stream",
          "text": [
            "('flush', [12, 11, 3, 1, 0])\n",
            "[[0. 0. 1. 0.]\n",
            " [0. 0. 1. 0.]\n",
            " [0. 1. 0. 0.]\n",
            " [0. 0. 1. 0.]\n",
            " [0. 0. 0. 0.]\n",
            " [0. 0. 0. 0.]\n",
            " [0. 0. 0. 0.]\n",
            " [0. 0. 0. 1.]\n",
            " [0. 0. 0. 0.]\n",
            " [0. 0. 0. 0.]\n",
            " [0. 0. 0. 0.]\n",
            " [0. 0. 1. 0.]\n",
            " [0. 0. 1. 0.]]\n"
          ]
        }
      ],
      "source": [
        "cards = deck()\n",
        "for n in range(7):\n",
        "    cards.deal_random()\n",
        "while check_combo(cards)[0] != \"flush\":\n",
        "    cards = deck()\n",
        "    for n in range(7):\n",
        "        cards.deal_random()\n",
        "print(check_combo(cards))\n",
        "print(cards.card_array)"
      ]
    },
    {
      "cell_type": "code",
      "execution_count": null,
      "metadata": {
        "colab": {
          "base_uri": "https://localhost:8080/"
        },
        "id": "ZM3w_WiA8BTE",
        "outputId": "37317cb0-c809-41da-d22a-2550327507c2"
      },
      "outputs": [
        {
          "name": "stdout",
          "output_type": "stream",
          "text": [
            "('pair', [1, 9, 8, 4])\n",
            "check: 0.0005002021789550781 seconds\n",
            "[[0. 1. 0. 0.]\n",
            " [1. 0. 1. 0.]\n",
            " [0. 0. 0. 0.]\n",
            " [0. 0. 0. 1.]\n",
            " [1. 0. 0. 0.]\n",
            " [0. 0. 0. 0.]\n",
            " [0. 0. 0. 0.]\n",
            " [0. 0. 0. 0.]\n",
            " [1. 0. 0. 0.]\n",
            " [1. 0. 0. 0.]\n",
            " [0. 0. 0. 0.]\n",
            " [0. 0. 0. 0.]\n",
            " [0. 0. 0. 0.]]\n"
          ]
        }
      ],
      "source": [
        "cards = deck()\n",
        "for n in range(7):\n",
        "    cards.deal_random()\n",
        "\n",
        "start_time = time.time()\n",
        "print(check_combo(cards))\n",
        "end_time = time.time()\n",
        "elapsed_time = end_time - start_time\n",
        "print(f\"check: {elapsed_time} seconds\")\n",
        "\n",
        "print(cards.card_array)"
      ]
    },
    {
      "cell_type": "code",
      "execution_count": null,
      "metadata": {
        "colab": {
          "base_uri": "https://localhost:8080/"
        },
        "id": "W0eI6BYA8BTE",
        "outputId": "78857809-fd4f-4a7b-c4fd-10bd0ba6c5c0"
      },
      "outputs": [
        {
          "name": "stdout",
          "output_type": "stream",
          "text": [
            "[[0. 1. 0. 0.]\n",
            " [1. 0. 1. 0.]\n",
            " [0. 0. 0. 0.]\n",
            " [0. 0. 0. 1.]\n",
            " [1. 0. 0. 0.]\n",
            " [0. 0. 0. 0.]\n",
            " [0. 0. 0. 0.]\n",
            " [0. 0. 0. 0.]\n",
            " [1. 0. 0. 0.]\n",
            " [1. 0. 0. 0.]\n",
            " [0. 0. 0. 0.]\n",
            " [0. 0. 0. 0.]\n",
            " [0. 0. 0. 0.]]\n"
          ]
        }
      ],
      "source": [
        "print(cards.card_array)"
      ]
    },
    {
      "cell_type": "code",
      "execution_count": null,
      "metadata": {
        "colab": {
          "base_uri": "https://localhost:8080/"
        },
        "id": "HvdmVUcR8BTE",
        "outputId": "6d8716b3-72b0-452f-e549-9f94b3a09467"
      },
      "outputs": [
        {
          "name": "stdout",
          "output_type": "stream",
          "text": [
            "[[ 0.  0.  0.  0.]\n",
            " [ 0.  0.  0.  0.]\n",
            " [ 0.  0.  0.  0.]\n",
            " [ 0.  0.  0.  0.]\n",
            " [ 0.  0.  0.  0.]\n",
            " [ 0.  0.  0.  0.]\n",
            " [ 0.  0.  0. -1.]\n",
            " [ 0.  0.  0. -1.]\n",
            " [ 0.  0.  1.  0.]\n",
            " [ 0.  0.  0.  0.]\n",
            " [ 0.  0.  0.  0.]\n",
            " [ 0.  0.  0.  0.]\n",
            " [ 1.  0.  0.  0.]]\n",
            "[[ 0.  0.  0.  0.]\n",
            " [ 0.  0.  0.  0.]\n",
            " [ 0.  0.  0.  0.]\n",
            " [ 0.  0.  0.  0.]\n",
            " [ 0.  0.  0.  1.]\n",
            " [ 0.  0.  0.  0.]\n",
            " [ 0.  0.  0. -1.]\n",
            " [ 0.  0.  0. -1.]\n",
            " [ 0.  0.  1.  0.]\n",
            " [ 0.  0.  0.  0.]\n",
            " [ 0.  0.  0.  0.]\n",
            " [ 0.  0.  0.  0.]\n",
            " [ 1.  0.  1.  0.]]\n"
          ]
        }
      ],
      "source": [
        "cards = deck(\"AhTd\",\"8c9c\")\n",
        "print(cards.card_array)\n",
        "cards.deal_random()\n",
        "cards.deal_random()\n",
        "print(cards.card_array)\n"
      ]
    },
    {
      "cell_type": "markdown",
      "metadata": {
        "id": "oCWomjid8BTF"
      },
      "source": []
    },
    {
      "cell_type": "code",
      "execution_count": null,
      "metadata": {
        "colab": {
          "base_uri": "https://localhost:8080/"
        },
        "id": "psS_teA_8BTF",
        "outputId": "a0f964cf-fe63-4aa7-ae49-61be544635e8"
      },
      "outputs": [
        {
          "name": "stdout",
          "output_type": "stream",
          "text": [
            "[[0. 0. 0. 0.]\n",
            " [0. 0. 0. 0.]\n",
            " [0. 0. 0. 0.]\n",
            " [0. 0. 0. 0.]\n",
            " [0. 0. 0. 0.]\n",
            " [0. 0. 0. 0.]\n",
            " [0. 0. 0. 0.]\n",
            " [0. 0. 0. 0.]\n",
            " [0. 0. 0. 0.]\n",
            " [0. 0. 0. 0.]\n",
            " [0. 0. 0. 0.]\n",
            " [0. 0. 0. 0.]\n",
            " [0. 0. 0. 0.]]\n"
          ]
        }
      ],
      "source": [
        "hand_array = np.zeros((13, 4))\n",
        "\n",
        "print(hand_array)"
      ]
    },
    {
      "cell_type": "code",
      "execution_count": null,
      "metadata": {
        "colab": {
          "base_uri": "https://localhost:8080/",
          "height": 192
        },
        "id": "FpNr0rFm8BTF",
        "outputId": "b3fda4e7-5eee-4bbe-b620-414929a971e9"
      },
      "outputs": [
        {
          "ename": "TypeError",
          "evalue": "'map' object is not subscriptable",
          "output_type": "error",
          "traceback": [
            "\u001b[1;31m---------------------------------------------------------------------------\u001b[0m",
            "\u001b[1;31mTypeError\u001b[0m                                 Traceback (most recent call last)",
            "Cell \u001b[1;32mIn[36], line 1\u001b[0m\n\u001b[1;32m----> 1\u001b[0m hand_array[\u001b[43mcard_map\u001b[49m\u001b[43m[\u001b[49m\u001b[38;5;124;43m'\u001b[39;49m\u001b[38;5;124;43mTd\u001b[39;49m\u001b[38;5;124;43m'\u001b[39;49m\u001b[43m]\u001b[49m\u001b[38;5;241m.\u001b[39mrank,card_map[\u001b[38;5;124m'\u001b[39m\u001b[38;5;124mTd\u001b[39m\u001b[38;5;124m'\u001b[39m]\u001b[38;5;241m.\u001b[39mcolor] \u001b[38;5;241m+\u001b[39m\u001b[38;5;241m=\u001b[39m \u001b[38;5;241m1\u001b[39m\n\u001b[0;32m      2\u001b[0m \u001b[38;5;28mprint\u001b[39m(hand_array)\n",
            "\u001b[1;31mTypeError\u001b[0m: 'map' object is not subscriptable"
          ]
        }
      ],
      "source": [
        "hand_array[card_map['Td'].rank,card_map['Td'].color] += 1\n",
        "print(hand_array)"
      ]
    },
    {
      "cell_type": "code",
      "execution_count": null,
      "metadata": {
        "id": "Waq55e0M8BTF"
      },
      "outputs": [],
      "source": [
        "x = card_map['Td'].index()\n",
        "hand_array[x] += 1\n",
        "print(hand_array)\n"
      ]
    },
    {
      "cell_type": "code",
      "execution_count": null,
      "metadata": {
        "id": "8hOeK1Fk8BTG"
      },
      "outputs": [],
      "source": [
        "# def make_map():\n",
        "#     columns = ['h', 's', 'd', 'c']\n",
        "#     rows = ['A', 'K', 'Q', 'J', 'T', '9', '8', '7', '6', '5', '4', '3', '2']\n",
        "#     card_map = {}\n",
        "#     for index_row in range(len(rows)):\n",
        "#         for index_col in range(len(columns)):\n",
        "#             key = f\"{rows[index_row]}{columns[index_col]}\"\n",
        "#             value = card(12-index_row, index_col, f\"{rows[index_row]}{columns[index_col]}\")\n",
        "#             card_map[key] = value\n",
        "#     return card_map"
      ]
    },
    {
      "cell_type": "code",
      "execution_count": null,
      "metadata": {
        "id": "K2WhPaln8BTG"
      },
      "outputs": [],
      "source": [
        "# columns = ['h', 's', 'd', 'c']\n",
        "# rows = ['A', 'K', 'Q', 'J', 'T', '9', '8', '7', '6', '5', '4', '3', '2']\n",
        "\n",
        "# card_map = {}\n",
        "\n",
        "# for index_row in range(len(rows)):\n",
        "#     for index_col in range(len(columns)):\n",
        "#         key = f\"{rows[index_row]}{columns[index_col]}\"\n",
        "#         value = card(12-index_row, index_col, f\"{rows[index_row]}{columns[index_col]}\")\n",
        "#         card_map[key] = value\n",
        "\n",
        "# for key, value in card_map.items():\n",
        "#     print(f\"{key}: {value.name}\")\n",
        "\n",
        "# value_at_Ah = card_map['Ah']\n",
        "# print(f\"The value at A and h is: {value_at_Ah}\")"
      ]
    }
  ],
  "metadata": {
    "colab": {
      "provenance": []
    },
    "kernelspec": {
      "display_name": "Python 3",
      "language": "python",
      "name": "python3"
    },
    "language_info": {
      "codemirror_mode": {
        "name": "ipython",
        "version": 3
      },
      "file_extension": ".py",
      "mimetype": "text/x-python",
      "name": "python",
      "nbconvert_exporter": "python",
      "pygments_lexer": "ipython3",
      "version": "3.11.7"
    }
  },
  "nbformat": 4,
  "nbformat_minor": 0
}
