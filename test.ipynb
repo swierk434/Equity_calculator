{
 "cells": [
  {
   "cell_type": "code",
   "execution_count": 26,
   "metadata": {},
   "outputs": [],
   "source": [
    "import numpy as np\n",
    "import random\n",
    "import time\n",
    "import copy\n",
    "from rich.progress import track"
   ]
  },
  {
   "cell_type": "code",
   "execution_count": 27,
   "metadata": {},
   "outputs": [],
   "source": [
    "def tokens_2(input_string):\n",
    "    if len(input_string) % 2 != 0:\n",
    "        raise ValueError(\"Input string length must be even.\")\n",
    "    tokens = [input_string[i:i+2] for i in range(0, len(input_string), 2)]  \n",
    "    return tokens"
   ]
  },
  {
   "cell_type": "code",
   "execution_count": 28,
   "metadata": {},
   "outputs": [],
   "source": [
    "class card:\n",
    "    def __init__(self, rank, color, name):\n",
    "        self.name = name\n",
    "        self.rank = rank\n",
    "        self.color = color\n",
    "    def index(self):\n",
    "        return (self.rank, self.color)\n"
   ]
  },
  {
   "cell_type": "code",
   "execution_count": 29,
   "metadata": {},
   "outputs": [],
   "source": [
    "class map:\n",
    "    def __init__(self):\n",
    "        self.color_names = ['h', 's', 'd', 'c'] #columns\n",
    "        self.rank_names = ['A', 'K', 'Q', 'J', 'T', '9', '8', '7', '6', '5', '4', '3', '2'] #rows\n",
    "        self.card_map = {}\n",
    "        for index_row in range(len(self.rank_names)):\n",
    "            for index_col in range(len(self.color_names)):\n",
    "                key = f\"{self.rank_names[index_row]}{self.color_names[index_col]}\"\n",
    "                value = card(12-index_row, index_col, f\"{self.rank_names[index_row]}{self.color_names[index_col]}\")\n",
    "                self.card_map[key] = value\n",
    "    \n",
    "    def card(self, name):\n",
    "        return self.card_map[name]\n",
    "    \n",
    "    def card_index(self, name):\n",
    "        return self.card_map[name].index()\n"
   ]
  },
  {
   "cell_type": "code",
   "execution_count": 30,
   "metadata": {},
   "outputs": [
    {
     "name": "stdout",
     "output_type": "stream",
     "text": [
      "(12, 0)\n"
     ]
    }
   ],
   "source": [
    "card_map = map()\n",
    "print(card_map.card_index('Ah'))"
   ]
  },
  {
   "cell_type": "code",
   "execution_count": 31,
   "metadata": {},
   "outputs": [],
   "source": [
    "class hero_cards:\n",
    "    card_map = map()\n",
    "    def __init__(self, cards = '', blocked_cards = ''):\n",
    "        #print(hero_cards.card_map.card_map)\n",
    "        self.card_array = np.zeros((13, 4))\n",
    "        self.cards_names = tokens_2(cards)\n",
    "        self.blocked_cards_names = tokens_2(blocked_cards)\n",
    "        for name in self.cards_names:\n",
    "            self.card_array[hero_cards.card_map.card_index(name)] = 1\n",
    "        for name in self.blocked_cards_names:\n",
    "            self.card_array[hero_cards.card_map.card_index(name)] = -1\n",
    "    def deal_random(self):\n",
    "        while True:\n",
    "            random_rank = random.randint(0, 12)\n",
    "            random_color = random.randint(0, 3)\n",
    "            if self.card_array[random_rank, random_color] == 0:\n",
    "                self.card_array[random_rank, random_color] = 1\n",
    "                break\n",
    "            \n",
    "    def deal_card(self, name):\n",
    "        if self.card_array[hero_cards.card_map.card_index(name)] == 1:\n",
    "            self.card_array[hero_cards.card_map.card_index(name)] = 1\n",
    "    \n",
    "    def __add__(self, other):\n",
    "        if isinstance(other, hero_cards):\n",
    "            tmp = copy.copy(self)\n",
    "            tmp.card_array = tmp.card_array + other.card_array\n",
    "            tmp.cards_names += other.cards_names\n",
    "            tmp.blocked_cards_names += other.blocked_cards_names\n",
    "            return tmp\n",
    "        else:\n",
    "            raise ValueError(\"'+' Operation not defined\")    \n",
    "    \n",
    "    def __mul__(self, other):\n",
    "        if isinstance(other, (int, float)):\n",
    "            tmp = copy.copy(self)\n",
    "            tmp.card_array = tmp.card_array * 2\n",
    "            return tmp\n",
    "        else:\n",
    "            raise ValueError(\"'*' Operation not defined\")  "
   ]
  },
  {
   "cell_type": "code",
   "execution_count": 32,
   "metadata": {},
   "outputs": [
    {
     "name": "stdout",
     "output_type": "stream",
     "text": [
      "[[ 0.  0.  0.  0.]\n",
      " [ 0.  0.  0.  0.]\n",
      " [ 0.  0.  0.  0.]\n",
      " [ 0.  0.  0.  0.]\n",
      " [ 0.  0.  0.  0.]\n",
      " [ 0.  0.  0.  0.]\n",
      " [ 0.  0. -2. -2.]\n",
      " [ 0.  0.  0.  0.]\n",
      " [ 0.  0. -1.  0.]\n",
      " [ 0.  0.  0.  0.]\n",
      " [ 0.  0.  0.  0.]\n",
      " [ 0.  0.  0.  0.]\n",
      " [-1.  0.  0.  0.]]\n"
     ]
    }
   ],
   "source": [
    "print((hero_cards(\"\",\"AhTd\")+hero_cards(\"\",\"8c8d\")*2).card_array)"
   ]
  },
  {
   "cell_type": "code",
   "execution_count": 33,
   "metadata": {},
   "outputs": [
    {
     "data": {
      "text/plain": [
       "array([5., 0., 0., 0.])"
      ]
     },
     "execution_count": 33,
     "metadata": {},
     "output_type": "execute_result"
    }
   ],
   "source": [
    "cards = hero_cards(\"2h3h4h5h6h\")\n",
    "array = cards.card_array\n",
    "np.sum(array[0:0+5,:],axis = 0)"
   ]
  },
  {
   "cell_type": "code",
   "execution_count": 34,
   "metadata": {},
   "outputs": [
    {
     "name": "stdout",
     "output_type": "stream",
     "text": [
      "[[1. 0. 0. 0.]\n",
      " [1. 0. 0. 0.]\n",
      " [1. 0. 0. 0.]\n",
      " [1. 0. 0. 0.]\n",
      " [0. 0. 0. 0.]]\n"
     ]
    }
   ],
   "source": [
    "print(np.vstack((array[0:0+4,:], array[12,:])))"
   ]
  },
  {
   "cell_type": "code",
   "execution_count": 35,
   "metadata": {},
   "outputs": [],
   "source": [
    "def check_straights(cards):\n",
    "    array = cards.card_array\n",
    "    rank_sum = np.sum(array, axis=1) #asis 1 - suma po rankach #axis 0 suma po kolorach\n",
    "    for n in range(-1, 10):\n",
    "        is_straight = True\n",
    "        for m in range(0, 5):\n",
    "            if rank_sum[(n+m)%13] < 1:\n",
    "                is_straight = False\n",
    "                break\n",
    "        if is_straight == True:\n",
    "            if n != -1:\n",
    "                if max(np.sum(array[n:n+5,:],axis = 0)) == 5:\n",
    "                    return \"straight flush\", [n+4]\n",
    "            elif max(np.sum(np.vstack((array[0:0+4,:], array[12,:])), axis=0)) == 5:\n",
    "                return \"straight flush\", [3]\n",
    "            else:\n",
    "                return \"straight\", [n+4]\n",
    "    return None, None"
   ]
  },
  {
   "cell_type": "code",
   "execution_count": 36,
   "metadata": {},
   "outputs": [
    {
     "name": "stdout",
     "output_type": "stream",
     "text": [
      "('straight flush', [3])\n"
     ]
    }
   ],
   "source": [
    "print(check_straights(hero_cards(\"2h3h4h5hAh\")))"
   ]
  },
  {
   "cell_type": "code",
   "execution_count": 37,
   "metadata": {},
   "outputs": [],
   "source": [
    "def check_above_straight(cards):\n",
    "    array = cards.card_array\n",
    "    rank_sum = np.sum(array, axis=1) #asis 1 - suma po rankach #axis 0 suma po kolorach\n",
    "    color_sum = np.sum(array, axis=0)\n",
    "    if max(rank_sum) == 4:\n",
    "        quad_index = np.where(rank_sum == 4)[0][0]\n",
    "        rank_sum[quad_index] = 0\n",
    "        return \"quads\", [quad_index, max(np.where(rank_sum > 0)[0])]\n",
    "    elif np.size(np.where(rank_sum >= 3)[0]) >= 1 and np.size(np.where(rank_sum >= 2)[0]) >= 2:\n",
    "        index_of_highest_trips = max(np.where(rank_sum >= 3)[0])\n",
    "        rank_sum[index_of_highest_trips] = 0\n",
    "        return \"full house\", [index_of_highest_trips, max(np.where(rank_sum >= 2)[0])]\n",
    "    elif max(color_sum) >= 5:\n",
    "        color_index = np.where(color_sum >= 5)[0]\n",
    "        index_of_flush = np.where(array[:,color_index] == 1)[0]\n",
    "        index_of_flush = np.sort(index_of_flush)[::-1]\n",
    "        return \"flush\" , [index_of_flush[0], index_of_flush[1], index_of_flush[2]]\n",
    "    else:\n",
    "        return None, None\n",
    "    "
   ]
  },
  {
   "cell_type": "code",
   "execution_count": 38,
   "metadata": {},
   "outputs": [
    {
     "name": "stdout",
     "output_type": "stream",
     "text": [
      "('flush', [12, 10, 8])\n"
     ]
    }
   ],
   "source": [
    "print(check_above_straight(hero_cards(\"QcTc4cAc6cQsAs\")))"
   ]
  },
  {
   "cell_type": "code",
   "execution_count": 39,
   "metadata": {},
   "outputs": [],
   "source": [
    "def check_below_straight(cards):\n",
    "    array = cards.card_array\n",
    "    rank_sum = np.sum(array, axis=1) #asis 1 - suma po rankach #axis 0 suma po kolorach\n",
    "    color_sum = np.sum(array, axis=0)\n",
    "    if max(rank_sum) == 3:\n",
    "        trips_index = max(np.where(rank_sum == 3)[0])\n",
    "        high_index = np.where(rank_sum == 1)[0]\n",
    "        high_index = np.sort(high_index)[::-1]\n",
    "        return \"trips\", [trips_index, high_index[0], high_index[1]]\n",
    "    elif np.size(np.where(rank_sum == 2)[0]) >= 2:\n",
    "        pair_index = np.where(rank_sum == 2)[0]\n",
    "        pair_index = np.sort(pair_index)[::-1]\n",
    "        out1 = pair_index[0]\n",
    "        out2 = pair_index[1]\n",
    "        rank_sum[out1] = 0\n",
    "        rank_sum[out2] = 0\n",
    "        high_index = np.where(rank_sum >= 1)[0]\n",
    "        return \"two pairs\", [out1, out2, max(high_index)]\n",
    "    elif np.size(np.where(rank_sum == 2)[0]) == 1:\n",
    "        pair_index = np.where(rank_sum == 2)[0][0]\n",
    "        high_index = np.where(rank_sum == 1)[0]\n",
    "        high_index = np.sort(high_index)[::-1]\n",
    "        return \"pair\", [pair_index, high_index[0], high_index[1], high_index[2]]\n",
    "    else:\n",
    "        high_index = np.where(rank_sum == 1)[0]\n",
    "        high_index = np.sort(high_index)[::-1]\n",
    "        return \"high card\", [high_index[0], high_index[1], high_index[2], high_index[3], high_index[4]]\n",
    "\n"
   ]
  },
  {
   "cell_type": "code",
   "execution_count": 40,
   "metadata": {},
   "outputs": [],
   "source": [
    "comb_rank = {\"high card\" : 0, \"pair\" : 1, \"two pairs\" : 2, \"trips\" : 3, \"straight\" : 4, \"flush\" : 5, \"full house\" : 6, \"quads\" : 7, \"straight flush\" : 8}"
   ]
  },
  {
   "cell_type": "code",
   "execution_count": 41,
   "metadata": {},
   "outputs": [
    {
     "data": {
      "text/plain": [
       "True"
      ]
     },
     "execution_count": 41,
     "metadata": {},
     "output_type": "execute_result"
    }
   ],
   "source": [
    "comb_rank[\"pair\"] < comb_rank[\"two pairs\"]"
   ]
  },
  {
   "cell_type": "code",
   "execution_count": 42,
   "metadata": {},
   "outputs": [],
   "source": [
    "def check_combo(cards):\n",
    "    comb, helpers = check_straights(cards)\n",
    "    if comb == \"straight flush\":\n",
    "        return comb, helpers\n",
    "    if comb == \"straight\":\n",
    "        comb2, helpers2 = check_above_straight(cards)\n",
    "        if comb2 != None:\n",
    "            return comb2, helpers2\n",
    "        else:\n",
    "            return comb, helpers\n",
    "    if comb == None:\n",
    "        comb2, helpers2 = check_above_straight(cards)\n",
    "        if comb2 != None:\n",
    "            return comb2, helpers2\n",
    "        comb, helpers = check_below_straight(cards)\n",
    "        return comb, helpers"
   ]
  },
  {
   "cell_type": "code",
   "execution_count": 43,
   "metadata": {},
   "outputs": [],
   "source": [
    "def winner(combo1, combo2, helpers1, helpers2):\n",
    "    if comb_rank[combo1] == comb_rank[combo2]:\n",
    "        #print(helpers1, helpers2)\n",
    "        for helper1, helper2 in zip(helpers1, helpers2):\n",
    "            if helper1 > helper2:\n",
    "                return 1\n",
    "            if helper1 < helper2:\n",
    "                return -1\n",
    "        return 0\n",
    "    if comb_rank[combo1] > comb_rank[combo2]:\n",
    "        return 1\n",
    "    if comb_rank[combo1] < comb_rank[combo2]:\n",
    "        return -1"
   ]
  },
  {
   "cell_type": "code",
   "execution_count": 54,
   "metadata": {},
   "outputs": [
    {
     "name": "stdout",
     "output_type": "stream",
     "text": [
      "[0.56858 0.00269 0.42873]\n"
     ]
    }
   ],
   "source": [
    "hero = hero_cards(\"AhTd\")\n",
    "villian = hero_cards(\"8c8d\")\n",
    "outcome_tab = np.array([0, 0, 0])\n",
    "for n in range(100000):\n",
    "    board = hero_cards(\"\",\"8c8dAhTd\")\n",
    "    for m in range(5):\n",
    "        board.deal_random()\n",
    "    hero_river = board + villian + hero*2\n",
    "    villian_river = board + villian*2 + hero\n",
    "    hero_combo, hero_kickers = check_combo(hero_river)\n",
    "    villian_combo, villian_kickers = check_combo(villian_river)\n",
    "    outcome = winner(hero_combo, villian_combo, hero_kickers, villian_kickers)\n",
    "    outcome_tab[outcome+1] += 1\n",
    "\n",
    "outcome_tab = outcome_tab / np.sum(outcome_tab)\n",
    "print(outcome_tab) "
   ]
  },
  {
   "cell_type": "code",
   "execution_count": 45,
   "metadata": {},
   "outputs": [
    {
     "name": "stdout",
     "output_type": "stream",
     "text": [
      "('pair', [12, 10, 8, 6])\n"
     ]
    }
   ],
   "source": [
    "print(check_below_straight(hero_cards(\"QcThAdAc2c8d7h\")))"
   ]
  },
  {
   "cell_type": "code",
   "execution_count": 46,
   "metadata": {},
   "outputs": [
    {
     "name": "stdout",
     "output_type": "stream",
     "text": [
      "('straight', [3])\n",
      "('full house', [10, 12])\n",
      "('flush', [12, 10, 8])\n"
     ]
    }
   ],
   "source": [
    "print(check_combo(hero_cards(\"2d3h4c5c6dQsAs\")))\n",
    "print(check_combo(hero_cards(\"QdQh4cAc6dQsAs\")))\n",
    "print(check_combo(hero_cards(\"QcTc4cAc6cQsAs\")))\n"
   ]
  },
  {
   "cell_type": "code",
   "execution_count": 47,
   "metadata": {},
   "outputs": [
    {
     "name": "stdout",
     "output_type": "stream",
     "text": [
      "('flush', [11, 4, 3])\n",
      "[[0. 0. 0. 0.]\n",
      " [0. 0. 0. 1.]\n",
      " [0. 0. 0. 1.]\n",
      " [0. 0. 0. 1.]\n",
      " [0. 0. 0. 1.]\n",
      " [0. 0. 0. 0.]\n",
      " [0. 0. 0. 0.]\n",
      " [0. 0. 0. 0.]\n",
      " [0. 0. 0. 0.]\n",
      " [0. 1. 0. 0.]\n",
      " [0. 0. 0. 0.]\n",
      " [0. 1. 0. 1.]\n",
      " [0. 0. 0. 0.]]\n"
     ]
    }
   ],
   "source": [
    "cards = hero_cards()\n",
    "for n in range(7):\n",
    "    cards.deal_random()\n",
    "while check_combo(cards)[0] != \"flush\":\n",
    "    cards = hero_cards()\n",
    "    for n in range(7):\n",
    "        cards.deal_random()\n",
    "print(check_combo(cards))\n",
    "print(cards.card_array)"
   ]
  },
  {
   "cell_type": "code",
   "execution_count": 48,
   "metadata": {},
   "outputs": [
    {
     "name": "stdout",
     "output_type": "stream",
     "text": [
      "('pair', [6, 10, 9, 5])\n",
      "check: 0.0 seconds\n",
      "[[0. 0. 0. 0.]\n",
      " [1. 0. 0. 0.]\n",
      " [0. 0. 0. 0.]\n",
      " [0. 0. 1. 0.]\n",
      " [0. 0. 0. 0.]\n",
      " [1. 0. 0. 0.]\n",
      " [1. 0. 0. 1.]\n",
      " [0. 0. 0. 0.]\n",
      " [0. 0. 0. 0.]\n",
      " [0. 0. 0. 1.]\n",
      " [0. 0. 0. 1.]\n",
      " [0. 0. 0. 0.]\n",
      " [0. 0. 0. 0.]]\n"
     ]
    }
   ],
   "source": [
    "cards = hero_cards()\n",
    "for n in range(7):\n",
    "    cards.deal_random()\n",
    "\n",
    "start_time = time.time()\n",
    "print(check_combo(cards))\n",
    "end_time = time.time()\n",
    "elapsed_time = end_time - start_time\n",
    "print(f\"check: {elapsed_time} seconds\")\n",
    "\n",
    "print(cards.card_array)"
   ]
  },
  {
   "cell_type": "code",
   "execution_count": 49,
   "metadata": {},
   "outputs": [
    {
     "name": "stdout",
     "output_type": "stream",
     "text": [
      "[[0. 0. 0. 0.]\n",
      " [1. 0. 0. 0.]\n",
      " [0. 0. 0. 0.]\n",
      " [0. 0. 1. 0.]\n",
      " [0. 0. 0. 0.]\n",
      " [1. 0. 0. 0.]\n",
      " [1. 0. 0. 1.]\n",
      " [0. 0. 0. 0.]\n",
      " [0. 0. 0. 0.]\n",
      " [0. 0. 0. 1.]\n",
      " [0. 0. 0. 1.]\n",
      " [0. 0. 0. 0.]\n",
      " [0. 0. 0. 0.]]\n"
     ]
    }
   ],
   "source": [
    "print(cards.card_array)"
   ]
  },
  {
   "cell_type": "code",
   "execution_count": 50,
   "metadata": {},
   "outputs": [
    {
     "name": "stdout",
     "output_type": "stream",
     "text": [
      "[[ 0.  0.  0.  0.]\n",
      " [ 0.  0.  0.  0.]\n",
      " [ 0.  0.  0.  0.]\n",
      " [ 0.  0.  0.  0.]\n",
      " [ 0.  0.  0.  0.]\n",
      " [ 0.  0.  0.  0.]\n",
      " [ 0.  0.  0. -1.]\n",
      " [ 0.  0.  0. -1.]\n",
      " [ 0.  0.  1.  0.]\n",
      " [ 0.  0.  0.  0.]\n",
      " [ 0.  0.  0.  0.]\n",
      " [ 0.  0.  0.  0.]\n",
      " [ 1.  0.  0.  0.]]\n",
      "[[ 0.  0.  0.  0.]\n",
      " [ 0.  0.  0.  0.]\n",
      " [ 0.  0.  0.  0.]\n",
      " [ 0.  0.  0.  0.]\n",
      " [ 0.  0.  0.  0.]\n",
      " [ 0.  0.  0.  0.]\n",
      " [ 0.  0.  0. -1.]\n",
      " [ 0.  0.  0. -1.]\n",
      " [ 0.  1.  1.  0.]\n",
      " [ 0.  0.  0.  0.]\n",
      " [ 0.  0.  1.  0.]\n",
      " [ 0.  0.  0.  0.]\n",
      " [ 1.  0.  0.  0.]]\n"
     ]
    }
   ],
   "source": [
    "cards = hero_cards(\"AhTd\",\"8c9c\")\n",
    "print(cards.card_array)\n",
    "cards.deal_random()\n",
    "cards.deal_random()\n",
    "print(cards.card_array)\n"
   ]
  },
  {
   "cell_type": "markdown",
   "metadata": {},
   "source": []
  },
  {
   "cell_type": "code",
   "execution_count": 51,
   "metadata": {},
   "outputs": [
    {
     "name": "stdout",
     "output_type": "stream",
     "text": [
      "[[0. 0. 0. 0.]\n",
      " [0. 0. 0. 0.]\n",
      " [0. 0. 0. 0.]\n",
      " [0. 0. 0. 0.]\n",
      " [0. 0. 0. 0.]\n",
      " [0. 0. 0. 0.]\n",
      " [0. 0. 0. 0.]\n",
      " [0. 0. 0. 0.]\n",
      " [0. 0. 0. 0.]\n",
      " [0. 0. 0. 0.]\n",
      " [0. 0. 0. 0.]\n",
      " [0. 0. 0. 0.]\n",
      " [0. 0. 0. 0.]]\n"
     ]
    }
   ],
   "source": [
    "hand_array = np.zeros((13, 4))\n",
    "\n",
    "print(hand_array)"
   ]
  },
  {
   "cell_type": "code",
   "execution_count": 52,
   "metadata": {},
   "outputs": [
    {
     "ename": "TypeError",
     "evalue": "'map' object is not subscriptable",
     "output_type": "error",
     "traceback": [
      "\u001b[1;31m---------------------------------------------------------------------------\u001b[0m",
      "\u001b[1;31mTypeError\u001b[0m                                 Traceback (most recent call last)",
      "Cell \u001b[1;32mIn[52], line 1\u001b[0m\n\u001b[1;32m----> 1\u001b[0m hand_array[\u001b[43mcard_map\u001b[49m\u001b[43m[\u001b[49m\u001b[38;5;124;43m'\u001b[39;49m\u001b[38;5;124;43mTd\u001b[39;49m\u001b[38;5;124;43m'\u001b[39;49m\u001b[43m]\u001b[49m\u001b[38;5;241m.\u001b[39mrank,card_map[\u001b[38;5;124m'\u001b[39m\u001b[38;5;124mTd\u001b[39m\u001b[38;5;124m'\u001b[39m]\u001b[38;5;241m.\u001b[39mcolor] \u001b[38;5;241m+\u001b[39m\u001b[38;5;241m=\u001b[39m \u001b[38;5;241m1\u001b[39m\n\u001b[0;32m      2\u001b[0m \u001b[38;5;28mprint\u001b[39m(hand_array)\n",
      "\u001b[1;31mTypeError\u001b[0m: 'map' object is not subscriptable"
     ]
    }
   ],
   "source": [
    "hand_array[card_map['Td'].rank,card_map['Td'].color] += 1\n",
    "print(hand_array)"
   ]
  },
  {
   "cell_type": "code",
   "execution_count": null,
   "metadata": {},
   "outputs": [
    {
     "name": "stdout",
     "output_type": "stream",
     "text": [
      "[[0. 0. 0. 0.]\n",
      " [0. 0. 0. 0.]\n",
      " [0. 0. 0. 0.]\n",
      " [0. 0. 0. 0.]\n",
      " [0. 0. 0. 0.]\n",
      " [0. 0. 0. 0.]\n",
      " [0. 0. 0. 0.]\n",
      " [0. 0. 0. 0.]\n",
      " [0. 0. 2. 0.]\n",
      " [0. 0. 0. 0.]\n",
      " [0. 0. 0. 0.]\n",
      " [0. 0. 0. 0.]\n",
      " [0. 0. 0. 0.]]\n"
     ]
    }
   ],
   "source": [
    "x = card_map['Td'].index()\n",
    "hand_array[x] += 1\n",
    "print(hand_array)\n"
   ]
  },
  {
   "cell_type": "code",
   "execution_count": null,
   "metadata": {},
   "outputs": [],
   "source": [
    "# def make_map():\n",
    "#     columns = ['h', 's', 'd', 'c']\n",
    "#     rows = ['A', 'K', 'Q', 'J', 'T', '9', '8', '7', '6', '5', '4', '3', '2']\n",
    "#     card_map = {}\n",
    "#     for index_row in range(len(rows)):\n",
    "#         for index_col in range(len(columns)):\n",
    "#             key = f\"{rows[index_row]}{columns[index_col]}\"\n",
    "#             value = card(12-index_row, index_col, f\"{rows[index_row]}{columns[index_col]}\")\n",
    "#             card_map[key] = value\n",
    "#     return card_map"
   ]
  },
  {
   "cell_type": "code",
   "execution_count": null,
   "metadata": {},
   "outputs": [],
   "source": [
    "# columns = ['h', 's', 'd', 'c']\n",
    "# rows = ['A', 'K', 'Q', 'J', 'T', '9', '8', '7', '6', '5', '4', '3', '2']\n",
    "\n",
    "# card_map = {}\n",
    "\n",
    "# for index_row in range(len(rows)):\n",
    "#     for index_col in range(len(columns)):\n",
    "#         key = f\"{rows[index_row]}{columns[index_col]}\"\n",
    "#         value = card(12-index_row, index_col, f\"{rows[index_row]}{columns[index_col]}\")\n",
    "#         card_map[key] = value\n",
    "\n",
    "# for key, value in card_map.items(): \n",
    "#     print(f\"{key}: {value.name}\")\n",
    "\n",
    "# value_at_Ah = card_map['Ah']\n",
    "# print(f\"The value at A and h is: {value_at_Ah}\")"
   ]
  }
 ],
 "metadata": {
  "kernelspec": {
   "display_name": "Python 3",
   "language": "python",
   "name": "python3"
  },
  "language_info": {
   "codemirror_mode": {
    "name": "ipython",
    "version": 3
   },
   "file_extension": ".py",
   "mimetype": "text/x-python",
   "name": "python",
   "nbconvert_exporter": "python",
   "pygments_lexer": "ipython3",
   "version": "3.11.7"
  }
 },
 "nbformat": 4,
 "nbformat_minor": 2
}
